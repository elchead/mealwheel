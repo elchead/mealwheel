{
 "metadata": {
  "language_info": {
   "codemirror_mode": {
    "name": "ipython",
    "version": 3
   },
   "file_extension": ".py",
   "mimetype": "text/x-python",
   "name": "python",
   "nbconvert_exporter": "python",
   "pygments_lexer": "ipython3",
   "version": "3.7.3-final"
  },
  "orig_nbformat": 2,
  "kernelspec": {
   "name": "python3",
   "display_name": "Python 3",
   "language": "python"
  }
 },
 "nbformat": 4,
 "nbformat_minor": 2,
 "cells": [
  {
   "source": [
    "## Import"
   ],
   "cell_type": "markdown",
   "metadata": {}
  },
  {
   "cell_type": "code",
   "execution_count": 1,
   "metadata": {},
   "outputs": [],
   "source": [
    "import pandas as pd\n",
    "import numpy as np\n",
    "import pickle\n",
    "\n",
    "from lightfm import LightFM\n",
    "from lightfm.data import Dataset"
   ]
  },
  {
   "source": [
    "## Load data"
   ],
   "cell_type": "markdown",
   "metadata": {}
  },
  {
   "cell_type": "code",
   "execution_count": 2,
   "metadata": {},
   "outputs": [],
   "source": [
    "path = \"../../mealwheel-data/\"\n",
    "raw_interactions = pd.read_csv(path + \"RAW_interactions.csv\", sep=\",\")\n",
    "raw_interactions = raw_interactions[[\"user_id\", \"recipe_id\"]]"
   ]
  },
  {
   "source": [
    "## Build model"
   ],
   "cell_type": "markdown",
   "metadata": {}
  },
  {
   "cell_type": "code",
   "execution_count": 3,
   "metadata": {},
   "outputs": [],
   "source": [
    "# LightFM will not use our IDs, but rather internal indices\n",
    "# It does this, because it needs consecutive non-negative integers (but the input could be anything)\n",
    "# Therefore, we need a mapping between our IDs and the internal indices\n",
    "# E.g. user_id = 38094 -> internal_user_id = 1, user_id = 1293707 -> internal_user_id = 2\n",
    "# Very well explained: https://making.lyst.com/lightfm/docs/examples/dataset.html?highlight=dataset#building-the-id-mappings\n",
    "\n",
    "# We can do this easily by using the Dataset class from the LightFM package\n",
    "dataset = Dataset()\n",
    "dataset.fit(users=raw_interactions[\"user_id\"], items=raw_interactions[\"recipe_id\"])"
   ]
  },
  {
   "cell_type": "code",
   "execution_count": 7,
   "metadata": {},
   "outputs": [
    {
     "output_type": "execute_result",
     "data": {
      "text/plain": [
       "0"
      ]
     },
     "metadata": {},
     "execution_count": 7
    }
   ],
   "source": [
    "# To have an easy way of converting input ids to internal ids, we define a mappings class\n",
    "class Mappings:\n",
    "    def __init__(self, dataset: Dataset) -> None:\n",
    "        \"\"\"\n",
    "        userid: user_id\n",
    "        row: internal user id\n",
    "        itemid: recipe_id\n",
    "        column: internal recipe id\n",
    "        \"\"\"\n",
    "        userid2row, _, itemid2col, _ = dataset.mapping()\n",
    "        self.userid2row = userid2row\n",
    "        self.itemid2col = itemid2col\n",
    "        # Invert dictionaries to get mapping in other direction\n",
    "        self.row2userid = {value: key for key, value in self.userid2row.items()}\n",
    "        self.col2itemid = {v: k for k, v in self.itemid2col.items()}\n",
    "        # Use like this: \n",
    "        # mappings = Mappings(dataset)\n",
    "        # mappings.userid2row[\"axfafe24\"]\n",
    "\n",
    "# And use it:\n",
    "mappings = Mappings(dataset)\n",
    "# Example. This returns the internal user id of user_id=38094\n",
    "mappings.userid2row[38094]"
   ]
  },
  {
   "cell_type": "code",
   "execution_count": 8,
   "metadata": {},
   "outputs": [],
   "source": [
    "# Then we build the interaction matrix (a table with users as rows and recipes as columns, and a 1 in the cell if the user rated the recipe)\n",
    "interactions, _ = dataset.build_interactions(raw_interactions.to_records(index=False))"
   ]
  },
  {
   "cell_type": "code",
   "execution_count": null,
   "metadata": {},
   "outputs": [],
   "source": [
    "# We could also add item_features (like the ratings)\n",
    "# https://making.lyst.com/lightfm/docs/examples/dataset.html?highlight=dataset#building-the-interactions-matrix"
   ]
  },
  {
   "cell_type": "code",
   "execution_count": 10,
   "metadata": {},
   "outputs": [
    {
     "output_type": "execute_result",
     "data": {
      "text/plain": [
       "<lightfm.lightfm.LightFM at 0x21b1d94a390>"
      ]
     },
     "metadata": {},
     "execution_count": 10
    }
   ],
   "source": [
    "# Now we can raw_datae model\n",
    "# This might take a few minutes\n",
    "model = LightFM(loss=\"warp\", learning_rate=0.05, random_state=42)\n",
    "model.fit(interactions=interactions, epochs=100)\n",
    "\n",
    "# Save model to pickle file\n",
    "# filename = \"recommendation_model.pkl\"\n",
    "# with open(filename, 'wb') as file:  \n",
    "#     pickle.dump(model, file)"
   ]
  },
  {
   "cell_type": "code",
   "execution_count": 4,
   "metadata": {},
   "outputs": [
    {
     "output_type": "execute_result",
     "data": {
      "text/plain": [
       "<lightfm.lightfm.LightFM at 0x1fad7892198>"
      ]
     },
     "metadata": {},
     "execution_count": 4
    }
   ],
   "source": [
    "# Load model from pickle file\n",
    "filename = \"recommendation_model.pkl\" \n",
    "with open(filename, 'rb') as file:  \n",
    "    model = pickle.load(file)\n",
    "\n",
    "model"
   ]
  },
  {
   "source": [
    "## Test model\n",
    "Get recommendations for one sample user and check if the recommendations make sense"
   ],
   "cell_type": "markdown",
   "metadata": {}
  },
  {
   "cell_type": "code",
   "execution_count": null,
   "metadata": {},
   "outputs": [],
   "source": [
    "# Specify the user for which predictions should be made\n",
    "user_id = 38094\n",
    "# Get the internal id (or: row) for this user\n",
    "user_row = mappings.userid2row[user_id]\n",
    "# Get the number of items in the dataset\n",
    "_, n_items = dataset.interactions_shape()\n",
    "# Get an array with all internal item ids\n",
    "item_columns = np.arange(n_items) # [0, 1, 2, ..., 231636]\n",
    "# Get the scores for each item (for our user)\n",
    "scores = model.predict(user_ids=user_row, item_ids=item_columns)\n",
    "# How to interpret:\n",
    "# score[0] = recommendation score for internal item id 0\n",
    "# score[1] = recommendation score for internal item id 1\n",
    "# ...\n",
    "# The item with the highest score is most likely to be a good recommendation"
   ]
  },
  {
   "cell_type": "code",
   "execution_count": null,
   "metadata": {},
   "outputs": [],
   "source": [
    "# Define a function that sorts the scores and returns the top_n elements\n",
    "def get_top_sorted(scores: np.ndarray, top_n):\n",
    "    \"\"\"\n",
    "    Get the top indices sorted descendingly from the scores list array.\n",
    "    Args:\n",
    "        scores: An array with scores.\n",
    "        top_n: The number of top scores to be returned.\n",
    "    Returns:\n",
    "        ScoringList: The first element of the tuple is the index where the score was\n",
    "                in the original array, the second element is the score itself.\n",
    "    \"\"\"\n",
    "    best_idxs = np.argpartition(scores, -top_n)[-top_n:]\n",
    "    return sorted(zip(best_idxs, scores[best_idxs]), key=lambda x: -x[1])\n",
    "\n",
    "# Example: Use fuction to return top 5 recommendations\n",
    "sorted_scores_top_10 = get_top_sorted(scores, 10)\n",
    "sorted_scores_top_10"
   ]
  },
  {
   "cell_type": "code",
   "execution_count": null,
   "metadata": {},
   "outputs": [],
   "source": [
    "# Add results to a DataFrame\n",
    "recommendations = pd.DataFrame(sorted_scores_top_10, columns=[\"internal_item_id\", \"score\"])\n",
    "# Add user_id\n",
    "recommendations[\"user_id\"] = user_id\n",
    "# Add recipe_id\n",
    "# Google something like \"python apply lambda\" to learn more about how this works\n",
    "recommendations[\"recipe_id\"] = recommendations[\"internal_item_id\"].apply(lambda x: mappings.col2itemid[x])\n",
    "# Drop internal_item_id and reorder other columns\n",
    "recommendations = recommendations[[\"user_id\", \"recipe_id\", \"score\"]]\n",
    "recommendations"
   ]
  },
  {
   "cell_type": "code",
   "execution_count": null,
   "metadata": {},
   "outputs": [],
   "source": [
    "# Get the recipe names for each recipe_id\n",
    "# Your turn :)"
   ]
  },
  {
   "cell_type": "code",
   "execution_count": null,
   "metadata": {},
   "outputs": [],
   "source": [
    "# Get the names of the recipes our sample user\n",
    "# Your turn :)"
   ]
  }
 ]
}